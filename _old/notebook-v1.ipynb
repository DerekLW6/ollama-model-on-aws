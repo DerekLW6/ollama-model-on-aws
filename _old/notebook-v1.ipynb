{
 "cells": [
  {
   "cell_type": "code",
   "execution_count": null,
   "metadata": {},
   "outputs": [],
   "source": [
    "import requests\n",
    "import json\n",
    "\n",
    "def start_session():\n",
    "    \"\"\"Start the model session by running a command or making an initial request.\"\"\"\n",
    "    # If you need to send a command to start the model, you would do it here.\n",
    "    # This example assumes the model is already running and listening on the port.\n",
    "    print(\"Session started. The model is ready to receive queries.\")\n",
    "\n",
    "def send_query(prompt):\n",
    "    \"\"\"Send a query to the model and return the response.\"\"\"\n",
    "    # Update the URL to use the public IP address and ensure the port is open in the EC2 security group\n",
    "    url = \"http://54.196.15.142:11434/api/generate\"\n",
    "    headers = {\"Content-Type\": \"application/json\"}\n",
    "    data = {\n",
    "        \"model\": \"mistral\",\n",
    "        \"prompt\": prompt\n",
    "    }\n",
    "    response = requests.post(url, headers=headers, data=json.dumps(data))\n",
    "    return response.json()  # Assuming the model returns JSON\n",
    "\n",
    "\n",
    "def main():\n",
    "    start_session()\n",
    "    \n",
    "    while True:\n",
    "        user_input = input(\"Enter your prompt (or type '/bye' to exit): \")\n",
    "        if user_input == \"/bye\":\n",
    "            print(\"Ending session...\")\n",
    "            break\n",
    "        response = send_query(user_input)\n",
    "        print(\"Model response:\", response)\n",
    "\n",
    "if __name__ == \"__main__\":\n",
    "    main()"
   ]
  },
  {
   "cell_type": "code",
   "execution_count": null,
   "metadata": {},
   "outputs": [],
   "source": []
  },
  {
   "cell_type": "code",
   "execution_count": null,
   "metadata": {},
   "outputs": [],
   "source": []
  },
  {
   "cell_type": "code",
   "execution_count": null,
   "metadata": {},
   "outputs": [],
   "source": []
  }
 ],
 "metadata": {
  "kernelspec": {
   "display_name": "Python 3",
   "language": "python",
   "name": "python3"
  },
  "language_info": {
   "codemirror_mode": {
    "name": "ipython",
    "version": 3
   },
   "file_extension": ".py",
   "mimetype": "text/x-python",
   "name": "python",
   "nbconvert_exporter": "python",
   "pygments_lexer": "ipython3",
   "version": "3.10.13"
  }
 },
 "nbformat": 4,
 "nbformat_minor": 2
}
