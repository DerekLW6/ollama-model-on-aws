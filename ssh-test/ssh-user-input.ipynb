{
 "cells": [
  {
   "cell_type": "code",
   "execution_count": 5,
   "metadata": {},
   "outputs": [],
   "source": [
    "# Importing the required modules\n",
    "import paramiko\n",
    "import sys\n",
    "import select  # Add this line to import the select module\n",
    "\n",
    "# Saving SSH connection details\n",
    "hostname = '54.196.15.142'\n",
    "port = 22\n",
    "username = 'ec2-user'\n",
    "private_key_path = '/workspaces/ollama-model-on-aws/ollama-key.pem'\n",
    "\n",
    "# Create SSH client\n",
    "ssh_client = paramiko.SSHClient()\n",
    "\n",
    "# Automatically add host keys\n",
    "ssh_client.set_missing_host_key_policy(paramiko.AutoAddPolicy())\n",
    "\n",
    "try:\n",
    "    # Connect to the SSH server using private key authentication\n",
    "    ssh_client.connect(hostname, port, username, key_filename=private_key_path)\n",
    "    print(\"SSH connection established successfully!\")\n",
    "\n",
    "    # Start an interactive shell session\n",
    "    ssh_shell = ssh_client.invoke_shell()\n",
    "\n",
    "    # Keep the shell session open\n",
    "    while True:\n",
    "        # Check if the shell session is active\n",
    "        if ssh_shell.recv_ready():\n",
    "            # Receive the output from the shell\n",
    "            output = ssh_shell.recv(1024).decode()\n",
    "            sys.stdout.write(output)\n",
    "        \n",
    "        # Check if the user has entered input\n",
    "        if sys.stdin in select.select([sys.stdin], [], [], 0)[0]:\n",
    "            # Read user input\n",
    "            input_data = sys.stdin.readline()\n",
    "            \n",
    "            # Send user input to the shell\n",
    "            ssh_shell.send(input_data)\n",
    "        \n",
    "finally:\n",
    "    # Close the SSH connection\n",
    "    ssh_client.close()\n",
    "    print(\"SSH connection closed.\")"
   ]
  },
  {
   "cell_type": "code",
   "execution_count": null,
   "metadata": {},
   "outputs": [],
   "source": []
  },
  {
   "cell_type": "code",
   "execution_count": null,
   "metadata": {},
   "outputs": [],
   "source": []
  },
  {
   "cell_type": "code",
   "execution_count": null,
   "metadata": {},
   "outputs": [],
   "source": []
  },
  {
   "cell_type": "code",
   "execution_count": null,
   "metadata": {},
   "outputs": [],
   "source": []
  }
 ],
 "metadata": {
  "kernelspec": {
   "display_name": "Python 3",
   "language": "python",
   "name": "python3"
  },
  "language_info": {
   "codemirror_mode": {
    "name": "ipython",
    "version": 3
   },
   "file_extension": ".py",
   "mimetype": "text/x-python",
   "name": "python",
   "nbconvert_exporter": "python",
   "pygments_lexer": "ipython3",
   "version": "3.10.13"
  }
 },
 "nbformat": 4,
 "nbformat_minor": 2
}
