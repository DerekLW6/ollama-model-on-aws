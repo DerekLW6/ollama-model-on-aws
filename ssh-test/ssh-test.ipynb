{
 "cells": [
  {
   "cell_type": "code",
   "execution_count": 1,
   "metadata": {},
   "outputs": [],
   "source": [
    "import paramiko\n",
    "\n",
    "# SSH connection details\n",
    "hostname = '54.196.15.142'\n",
    "port = 22\n",
    "username = 'ec2-user'\n",
    "private_key_path = '/workspaces/ollama-model-on-aws/ollama-key.pem'"
   ]
  },
  {
   "cell_type": "code",
   "execution_count": 2,
   "metadata": {},
   "outputs": [
    {
     "name": "stdout",
     "output_type": "stream",
     "text": [
      "SSH connection established successfully!\n",
      "total 0\n",
      "\n",
      "SSH connection closed.\n"
     ]
    }
   ],
   "source": [
    "# Create SSH client\n",
    "ssh_client = paramiko.SSHClient()\n",
    "\n",
    "# Automatically add host keys\n",
    "ssh_client.set_missing_host_key_policy(paramiko.AutoAddPolicy())\n",
    "\n",
    "try:\n",
    "    # Connect to the SSH server using private key authentication\n",
    "    ssh_client.connect(hostname, port, username, key_filename=private_key_path)\n",
    "    print(\"SSH connection established successfully!\")\n",
    "\n",
    "    # Now you can execute commands or do other operations using ssh_client\n",
    "\n",
    "    # For example, execute a command\n",
    "    stdin, stdout, stderr = ssh_client.exec_command('ls -l')\n",
    "    print(stdout.read().decode())\n",
    "\n",
    "finally:\n",
    "    # Close the SSH connection\n",
    "    ssh_client.close()\n",
    "    print(\"SSH connection closed.\")"
   ]
  },
  {
   "cell_type": "code",
   "execution_count": null,
   "metadata": {},
   "outputs": [],
   "source": []
  },
  {
   "cell_type": "code",
   "execution_count": null,
   "metadata": {},
   "outputs": [],
   "source": []
  }
 ],
 "metadata": {
  "kernelspec": {
   "display_name": "Python 3",
   "language": "python",
   "name": "python3"
  },
  "language_info": {
   "codemirror_mode": {
    "name": "ipython",
    "version": 3
   },
   "file_extension": ".py",
   "mimetype": "text/x-python",
   "name": "python",
   "nbconvert_exporter": "python",
   "pygments_lexer": "ipython3",
   "version": "3.10.13"
  }
 },
 "nbformat": 4,
 "nbformat_minor": 2
}
